{
 "cells": [
  {
   "cell_type": "code",
   "id": "initial_id",
   "metadata": {
    "collapsed": true,
    "ExecuteTime": {
     "end_time": "2024-06-07T08:01:52.576124Z",
     "start_time": "2024-06-07T08:01:52.356361Z"
    }
   },
   "source": "from scipy import io",
   "outputs": [],
   "execution_count": 1
  },
  {
   "metadata": {
    "ExecuteTime": {
     "end_time": "2024-06-07T08:01:52.813531Z",
     "start_time": "2024-06-07T08:01:52.577129Z"
    }
   },
   "cell_type": "code",
   "source": "mat = io.loadmat('data/p300S01.mat')",
   "id": "8a9cdc321b1e5383",
   "outputs": [],
   "execution_count": 2
  },
  {
   "metadata": {
    "ExecuteTime": {
     "end_time": "2024-06-07T08:01:52.821206Z",
     "start_time": "2024-06-07T08:01:52.814525Z"
    }
   },
   "cell_type": "code",
   "source": [
    "data = mat['data']\n",
    "data"
   ],
   "id": "b11c4de75b979c98",
   "outputs": [
    {
     "data": {
      "text/plain": [
       "array([[(array([[26.95640373, 11.73869324,  6.98503304, ...,  2.66381407,\n",
       "                -3.04957318, -2.63618731],\n",
       "               [29.94702721, 14.98267174, 10.02626705, ...,  5.16736984,\n",
       "                 1.30663943,  2.16391516],\n",
       "               [33.09702683, 19.32771683, 13.60309792, ...,  8.05283546,\n",
       "                 8.53473663,  7.90571976],\n",
       "               ...,\n",
       "               [ 5.6236558 ,  0.53022534,  1.55959177, ..., -4.96036482,\n",
       "                 2.35364461, -8.1143961 ],\n",
       "               [ 4.38928461,  1.46526659,  1.96254373, ..., -4.6057415 ,\n",
       "                 1.29674733, -7.18669939],\n",
       "               [ 2.58838463,  0.79275906,  0.29564747, ..., -4.98137999,\n",
       "                -4.04607677, -7.54975986]]), array([[0],\n",
       "               [0],\n",
       "               [0],\n",
       "               ...,\n",
       "               [0],\n",
       "               [0],\n",
       "               [0]], dtype=uint8), array([[0],\n",
       "               [0],\n",
       "               [0],\n",
       "               ...,\n",
       "               [0],\n",
       "               [0],\n",
       "               [0]], dtype=uint8), array([[  7487,  17511,  27536,  37564,  47590,  57620,  67641,  77667,\n",
       "                 87690,  97715, 107740, 117764, 127790, 137813, 147840, 157867,\n",
       "                167893, 177915, 187942, 197967, 207995, 218018, 228044, 238068,\n",
       "                248095, 258119, 268146, 278171, 288194, 298220, 308246, 318273,\n",
       "                328297, 338325, 348349]]), array([[  7486,     31,     11,      1],\n",
       "               [  7548,     31,      5,      1],\n",
       "               [  7610,     30,      7,      1],\n",
       "               ...,\n",
       "               [355688,     32,      3,      2],\n",
       "               [355750,     32,      7,      1],\n",
       "               [355813,     32,      4,      1]]))                                                        ]],\n",
       "      dtype=[('X', 'O'), ('y', 'O'), ('y_stim', 'O'), ('trial', 'O'), ('flash', 'O')])"
      ]
     },
     "execution_count": 3,
     "metadata": {},
     "output_type": "execute_result"
    }
   ],
   "execution_count": 3
  },
  {
   "metadata": {
    "ExecuteTime": {
     "end_time": "2024-06-07T08:01:52.827952Z",
     "start_time": "2024-06-07T08:01:52.822216Z"
    }
   },
   "cell_type": "code",
   "source": "data['flash'][0][0]",
   "id": "90e32c4fd8eab1ce",
   "outputs": [
    {
     "data": {
      "text/plain": [
       "array([[  7486,     31,     11,      1],\n",
       "       [  7548,     31,      5,      1],\n",
       "       [  7610,     30,      7,      1],\n",
       "       ...,\n",
       "       [355688,     32,      3,      2],\n",
       "       [355750,     32,      7,      1],\n",
       "       [355813,     32,      4,      1]])"
      ]
     },
     "execution_count": 4,
     "metadata": {},
     "output_type": "execute_result"
    }
   ],
   "execution_count": 4
  }
 ],
 "metadata": {
  "kernelspec": {
   "display_name": "Python 3",
   "language": "python",
   "name": "python3"
  },
  "language_info": {
   "codemirror_mode": {
    "name": "ipython",
    "version": 2
   },
   "file_extension": ".py",
   "mimetype": "text/x-python",
   "name": "python",
   "nbconvert_exporter": "python",
   "pygments_lexer": "ipython2",
   "version": "2.7.6"
  }
 },
 "nbformat": 4,
 "nbformat_minor": 5
}
