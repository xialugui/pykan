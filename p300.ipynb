{
 "cells": [
  {
   "cell_type": "code",
   "id": "initial_id",
   "metadata": {
    "collapsed": true,
    "ExecuteTime": {
     "end_time": "2024-06-12T09:43:39.975907Z",
     "start_time": "2024-06-12T09:43:25.848941Z"
    }
   },
   "source": [
    "import scipy.io as scio\n",
    "import numpy as np\n",
    "import matplotlib.pyplot as plt\n",
    "import mne\n",
    "from mne_icalabel import label_components\n",
    "from sklearn.ensemble import RandomForestClassifier\n",
    "from sklearn.metrics import accuracy_score\n",
    "from sklearn.metrics import confusion_matrix\n",
    "from sklearn.metrics import classification_report\n",
    "from sklearn.pipeline import make_pipeline\n",
    "from sklearn.preprocessing import FunctionTransformer\n",
    "from mne.preprocessing import (ICA, create_eog_epochs, create_ecg_epochs, corrmap)\n",
    "from sklearn.svm import SVC\n",
    "from sklearn.tree import DecisionTreeClassifier"
   ],
   "outputs": [],
   "execution_count": 5
  },
  {
   "metadata": {
    "ExecuteTime": {
     "end_time": "2024-06-12T09:43:44.608664Z",
     "start_time": "2024-06-12T09:43:44.603496Z"
    }
   },
   "cell_type": "code",
   "source": [
    "def Extractive(file):\n",
    "    original_data = scio.loadmat(file)\n",
    "    samples = original_data['samples'].transpose()\n",
    "    ch_names = ['FZ', 'CZ', 'P3', 'PZ', 'P4', 'PO7', 'PO8', 'OZ']\n",
    "    sfreq = 250\n",
    "    info = mne.create_info(ch_names, sfreq)\n",
    "    raw = mne.io.RawArray(samples, info)\n",
    "\n",
    "    # raw.plot()\n",
    "    # plt.pause(0)\n",
    "    inside_data = original_data['data']\n",
    "    # print(inside_data.dtype)\n",
    "    # np.set_printoptions(threshold=np.inf)\n",
    "    # print(inside_data['flash'][0][0])\n",
    "    flash = inside_data['flash'][0][0]\n",
    "\n",
    "    # 创建注释\n",
    "    onset = flash[:, 0]/250\n",
    "    description = flash[:, 3]\n",
    "    annot = mne.Annotations(onset=onset, duration=0.125, description=description)\n",
    "    # print(annot)\n",
    "    raw.set_annotations(annot)\n",
    "    # print(samples.shape)\n",
    "    raw_train = raw.copy()\n",
    "    raw_test = raw.copy()\n",
    "    raw_train.crop(tmin=200, tmax=500)\n",
    "    raw_test.crop(tmin=500, tmax=800)\n",
    "    '''\n",
    "    raw_train.plot()\n",
    "    raw_test.plot()\n",
    "    plt.pause(0)\n",
    "    '''\n",
    "    return raw_train, raw_test"
   ],
   "id": "22fc7053e2cf405e",
   "outputs": [],
   "execution_count": 6
  },
  {
   "metadata": {
    "ExecuteTime": {
     "end_time": "2024-06-12T09:43:47.456444Z",
     "start_time": "2024-06-12T09:43:47.451800Z"
    }
   },
   "cell_type": "code",
   "source": [
    "def transform(raw):\n",
    "    event_id = {'1': 1, '2': 2, '1/2': 2}\n",
    "    # 重设通道名称\n",
    "    channel_types = {'FZ': 'eeg', 'CZ': 'eeg', 'P3': 'eeg', 'PZ': 'eeg',\n",
    "                     'P4': 'eeg', 'PO7': 'eeg', 'PO8': 'eeg', 'OZ': 'eeg'}\n",
    "    raw.set_channel_types(channel_types)\n",
    "    events, _ = mne.events_from_annotations(raw, event_id=event_id)   # 将注释转化为events\n",
    "    # mne.viz.plot_events(events_train, event_id=event_id)                    # 绘制事件发生时间分布图\n",
    "    # plot一下估计每一个事件持续的长度\n",
    "    # raw.plot()\n",
    "    # plt.pause(0)\n",
    "    epochs = mne.Epochs(raw=raw, events=events, tmin=-0.125, tmax=0.875, event_id=event_id,\n",
    "                        preload=True, event_repeated='drop')\n",
    "    return epochs, events"
   ],
   "id": "c6369a75499f7f3a",
   "outputs": [],
   "execution_count": 7
  },
  {
   "metadata": {
    "ExecuteTime": {
     "end_time": "2024-06-12T09:43:50.247587Z",
     "start_time": "2024-06-12T09:43:50.241326Z"
    }
   },
   "cell_type": "code",
   "source": [
    "def eeg_power_band(epochs):\n",
    "    \"\"\"\n",
    "    该函数根据epochs的特定频段中的相对功率来创建eeg特征\n",
    "    使用welch方法可得到83%左右正确率，使用multi方法只得到70%左右，效果不是很好\n",
    "    \"\"\"\n",
    "    # 特定频带\n",
    "    FREQ_BANDS = {\"delta\": [0.5, 4.5],\n",
    "                  \"theta\": [4.5, 8.5],\n",
    "                  # \"alpha\": [8.5, 11.5],\n",
    "                  \"sigma\": [11.5, 15.5],\n",
    "                  \"beta\": [15.5, 30]}\n",
    "    spectrum = epochs.compute_psd(method='welch', picks='eeg', fmin=0.5, fmax=30., n_fft=64, n_overlap=10)\n",
    "    psds, freqs = spectrum.get_data(return_freqs=True)\n",
    "    # 归一化 PSDs\n",
    "    psds /= np.sum(psds, axis=-1, keepdims=True)\n",
    "    X = []\n",
    "    for fmin, fmax in FREQ_BANDS.values():\n",
    "        psds_band = psds[:, :, (freqs >= fmin) & (freqs < fmax)].mean(axis=-1)\n",
    "        X.append(psds_band.reshape(len(psds), -1))\n",
    "    # print(X)\n",
    "    return np.concatenate(X, axis=1)"
   ],
   "id": "33cdc42ffb19888d",
   "outputs": [],
   "execution_count": 8
  },
  {
   "metadata": {
    "ExecuteTime": {
     "end_time": "2024-06-12T09:43:58.813406Z",
     "start_time": "2024-06-12T09:43:58.808739Z"
    }
   },
   "cell_type": "code",
   "source": [
    "def classification(epochs_train, epochs_test, event_id, k):\n",
    "    if k == 0:\n",
    "        pipe = pipe = make_pipeline(FunctionTransformer(eeg_power_band, validate=False),\n",
    "                                    SVC(C=1.2, kernel='linear', random_state=42))\n",
    "    elif k == 1:\n",
    "        pipe = pipe = make_pipeline(FunctionTransformer(eeg_power_band, validate=False),\n",
    "                                    RandomForestClassifier(n_estimators=100, random_state=42))\n",
    "    elif k == 2:\n",
    "        pipe = pipe = make_pipeline(FunctionTransformer(eeg_power_band, validate=False),\n",
    "                                    DecisionTreeClassifier(random_state=42))\n",
    "    # 训练\n",
    "    y_train = epochs_train.events[:, 2]\n",
    "    pipe.fit(epochs_train, y_train)\n",
    "\n",
    "    # 预测\n",
    "    y_pred = pipe.predict(epochs_test)\n",
    "\n",
    "    # 评估准确率\n",
    "    y_test = epochs_test.events[:, 2]\n",
    "    acc = accuracy_score(y_test, y_pred)\n",
    "\n",
    "    print(\"Accuracy score: {}\".format(acc))"
   ],
   "id": "3cc71231ba57f954",
   "outputs": [],
   "execution_count": 9
  },
  {
   "metadata": {
    "ExecuteTime": {
     "end_time": "2024-06-12T09:44:13.735072Z",
     "start_time": "2024-06-12T09:44:02.262941Z"
    }
   },
   "cell_type": "code",
   "source": [
    "file = 'data/P300S01.mat'\n",
    "# 从数据集中提取数据\n",
    "raw_train, raw_test = Extractive(file)\n",
    "# 生成epochs和events对象\n",
    "epochs_train, events_train = transform(raw_train)\n",
    "epochs_test, events_test = transform(raw_test)\n",
    "\n",
    "'''\n",
    "特征工程：\n",
    "将两个事件的epoch综合展示\n",
    "'''\n",
    "event_id = {'1': 1, '2': 2}\n",
    "fig, (ax1, ax2) = plt.subplots(ncols=2)\n",
    "stages = sorted(event_id.keys())\n",
    "for ax, title, epochs in zip([ax1, ax2], ['train', 'test'], [epochs_train, epochs_test]):\n",
    "    for stage, color in zip(stages, ['red', 'blue']):\n",
    "        epochs[stage].plot_psd(area_mode=None, color=color, ax=ax,\n",
    "                               fmin=0.1, fmax=20., show=False,\n",
    "                               average=True, spatial_colors=False)\n",
    "        ax.set(title=title, xlabel='Frequency (Hz)')\n",
    "ax2.set(ylabel='uV^2/hz (dB)')\n",
    "ax2.legend(ax2.lines[2::3], stages)\n",
    "plt.tight_layout()\n",
    "# plt.show()\n",
    "\n",
    "'''\n",
    "分类预测\n",
    "'''\n",
    "for k in range(3):\n",
    "    classification(epochs_train, epochs_test, event_id, k)"
   ],
   "id": "a4e3f4a9053ed1d",
   "outputs": [
    {
     "name": "stdout",
     "output_type": "stream",
     "text": [
      "Creating RawArray with float64 data, n_channels=8, n_times=358372\n",
      "    Range : 0 ... 358371 =      0.000 ...  1433.484 secs\n",
      "Ready.\n",
      "Used Annotations descriptions: ['1', '2']\n",
      "Multiple event values for single event times found. Keeping the first occurrence and dropping all others.\n",
      "Not setting metadata\n",
      "862 matching events found\n",
      "Setting baseline interval to [-0.124, 0.0] s\n",
      "Applying baseline correction (mode: mean)\n",
      "0 projection items activated\n",
      "Using data from preloaded Raw for 862 events and 251 original time points ...\n"
     ]
    },
    {
     "name": "stderr",
     "output_type": "stream",
     "text": [
      "C:\\Users\\mimovr\\AppData\\Local\\Temp\\ipykernel_6400\\3387266202.py:6: RuntimeWarning: The unit for channel(s) CZ, FZ, OZ, P3, P4, PO7, PO8, PZ has changed from NA to V.\n",
      "  raw.set_channel_types(channel_types)\n"
     ]
    },
    {
     "name": "stdout",
     "output_type": "stream",
     "text": [
      "6 bad epochs dropped\n",
      "Used Annotations descriptions: ['1', '2']\n",
      "Multiple event values for single event times found. Keeping the first occurrence and dropping all others.\n",
      "Not setting metadata\n",
      "833 matching events found\n",
      "Setting baseline interval to [-0.124, 0.0] s\n",
      "Applying baseline correction (mode: mean)\n",
      "0 projection items activated\n",
      "Using data from preloaded Raw for 833 events and 251 original time points ...\n",
      "5 bad epochs dropped\n"
     ]
    },
    {
     "name": "stderr",
     "output_type": "stream",
     "text": [
      "C:\\Users\\mimovr\\AppData\\Local\\Temp\\ipykernel_6400\\3387266202.py:6: RuntimeWarning: The unit for channel(s) CZ, FZ, OZ, P3, P4, PO7, PO8, PZ has changed from NA to V.\n",
      "  raw.set_channel_types(channel_types)\n"
     ]
    },
    {
     "name": "stdout",
     "output_type": "stream",
     "text": [
      "NOTE: plot_psd() is a legacy function. New code should use .compute_psd().plot().\n",
      "    Using multitaper spectrum estimation with 7 DPSS windows\n",
      "Plotting power spectral density (dB=True).\n",
      "Averaging across epochs...\n",
      "NOTE: plot_psd() is a legacy function. New code should use .compute_psd().plot().\n",
      "    Using multitaper spectrum estimation with 7 DPSS windows\n",
      "Plotting power spectral density (dB=True).\n",
      "Averaging across epochs...\n",
      "NOTE: plot_psd() is a legacy function. New code should use .compute_psd().plot().\n"
     ]
    },
    {
     "name": "stderr",
     "output_type": "stream",
     "text": [
      "C:\\Users\\mimovr\\AppData\\Local\\Temp\\ipykernel_6400\\2637873209.py:17: FutureWarning: The value of `amplitude='auto'` will be removed in MNE 1.8.0, and the new default will be `amplitude=False`.\n",
      "  epochs[stage].plot_psd(area_mode=None, color=color, ax=ax,\n",
      "C:\\Users\\mimovr\\AppData\\Local\\Temp\\ipykernel_6400\\2637873209.py:17: FutureWarning: The value of `amplitude='auto'` will be removed in MNE 1.8.0, and the new default will be `amplitude=False`.\n",
      "  epochs[stage].plot_psd(area_mode=None, color=color, ax=ax,\n"
     ]
    },
    {
     "name": "stdout",
     "output_type": "stream",
     "text": [
      "    Using multitaper spectrum estimation with 7 DPSS windows\n",
      "Plotting power spectral density (dB=True).\n",
      "Averaging across epochs...\n",
      "NOTE: plot_psd() is a legacy function. New code should use .compute_psd().plot().\n",
      "    Using multitaper spectrum estimation with 7 DPSS windows\n",
      "Plotting power spectral density (dB=True).\n",
      "Averaging across epochs...\n"
     ]
    },
    {
     "name": "stderr",
     "output_type": "stream",
     "text": [
      "C:\\Users\\mimovr\\AppData\\Local\\Temp\\ipykernel_6400\\2637873209.py:17: FutureWarning: The value of `amplitude='auto'` will be removed in MNE 1.8.0, and the new default will be `amplitude=False`.\n",
      "  epochs[stage].plot_psd(area_mode=None, color=color, ax=ax,\n",
      "C:\\Users\\mimovr\\AppData\\Local\\Temp\\ipykernel_6400\\2637873209.py:17: FutureWarning: The value of `amplitude='auto'` will be removed in MNE 1.8.0, and the new default will be `amplitude=False`.\n",
      "  epochs[stage].plot_psd(area_mode=None, color=color, ax=ax,\n"
     ]
    },
    {
     "name": "stdout",
     "output_type": "stream",
     "text": [
      "Effective window size : 0.256 (s)\n",
      "Effective window size : 0.256 (s)\n",
      "Accuracy score: 0.8309178743961353\n",
      "Effective window size : 0.256 (s)\n",
      "Effective window size : 0.256 (s)\n",
      "Accuracy score: 0.8309178743961353\n",
      "Effective window size : 0.256 (s)\n",
      "Effective window size : 0.256 (s)\n",
      "Accuracy score: 0.7246376811594203\n"
     ]
    },
    {
     "data": {
      "text/plain": [
       "<Figure size 640x480 with 2 Axes>"
      ],
      "image/png": "[encoded data removed]"
     },
     "metadata": {},
     "output_type": "display_data"
    }
   ],
   "execution_count": 10
  },
  {
   "metadata": {},
   "cell_type": "code",
   "outputs": [],
   "execution_count": null,
   "source": "",
   "id": "6055794ebf6f2bf0"
  }
 ],
 "metadata": {
  "kernelspec": {
   "display_name": "Python 3",
   "language": "python",
   "name": "python3"
  },
  "language_info": {
   "codemirror_mode": {
    "name": "ipython",
    "version": 2
   },
   "file_extension": ".py",
   "mimetype": "text/x-python",
   "name": "python",
   "nbconvert_exporter": "python",
   "pygments_lexer": "ipython2",
   "version": "2.7.6"
  }
 },
 "nbformat": 4,
 "nbformat_minor": 5
}
